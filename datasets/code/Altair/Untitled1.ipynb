{
 "cells": [
  {
   "cell_type": "code",
   "execution_count": null,
   "id": "f7fcb074-0653-4e9c-bda7-be08689b0ea9",
   "metadata": {},
   "outputs": [],
   "source": [
    "import csv-diff as cdiff"
   ]
  }
 ],
 "metadata": {
  "kernelspec": {
   "display_name": "Stata",
   "language": "stata",
   "name": "stata"
  },
  "language_info": {
   "name": ""
  }
 },
 "nbformat": 4,
 "nbformat_minor": 5
}
