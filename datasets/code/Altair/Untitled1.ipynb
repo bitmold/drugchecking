{
 "cells": [
  {
   "cell_type": "code",
   "execution_count": null,
   "id": "44e2e9a4-4e9e-46d8-90b2-1be2a243a431",
   "metadata": {},
   "outputs": [],
   "source": [
    "di \"hello world\""
   ]
  },
  {
   "cell_type": "code",
   "execution_count": null,
   "id": "f7fcb074-0653-4e9c-bda7-be08689b0ea9",
   "metadata": {},
   "outputs": [],
   "source": []
  }
 ],
 "metadata": {
  "kernelspec": {
   "display_name": "Stata",
   "language": "stata",
   "name": "stata"
  },
  "language_info": {
   "name": ""
  }
 },
 "nbformat": 4,
 "nbformat_minor": 5
}
