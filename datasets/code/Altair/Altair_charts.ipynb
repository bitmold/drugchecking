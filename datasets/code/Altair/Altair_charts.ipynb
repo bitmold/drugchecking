{
 "cells": [
  {
   "cell_type": "code",
   "execution_count": 13,
   "id": "7f41a00b-339b-4288-aad5-5d12ad5a45d4",
   "metadata": {},
   "outputs": [],
   "source": [
    "import altair as alt\n",
    "\n",
    "url = \"https://raw.githubusercontent.com/opioiddatalab/drugchecking/main/datasets/code/Streamlit/x_strength.csv\"\n",
    "\n",
    "sensations = alt.Chart(url).mark_bar(size=40).encode(\n",
    "    x=alt.X('sensations:N',\n",
    "            sort=['weaker', 'normal', 'stronger'],\n",
    "            axis=alt.Axis(title=\"Relative to Typical Current Supply\")),\n",
    "    y=alt.Y('samples:Q',\n",
    "            axis=alt.Axis(title=\"Number of Samples\")),\n",
    ").properties(\n",
    "    width=alt.Step(80),\n",
    "    title=\"Sensations of Drugs Containing Xylazine\"\n",
    ").configure_axis(\n",
    "   labelFontSize=13,\n",
    "   titleFontSize=15,\n",
    "   labelAngle=0\n",
    ").configure_title(\n",
    "   fontSize=16\n",
    ")\n"
   ]
  },
  {
   "cell_type": "markdown",
   "id": "94ba31bd-dcc6-4070-a428-0d795b1b2de9",
   "metadata": {},
   "source": [
    "Pie chart primary vs. trace"
   ]
  },
  {
   "cell_type": "code",
   "execution_count": 15,
   "id": "7a960dfa-6c18-4bcc-ac00-3e8f2782b0d8",
   "metadata": {},
   "outputs": [],
   "source": [
    "\n",
    "\n",
    "url = \"https://raw.githubusercontent.com/opioiddatalab/drugchecking/main/datasets/code/Streamlit/x_strength.csv\"\n",
    "\n",
    "strength = alt.Chart(url).mark_bar(size=40).encode(\n",
    "    x=alt.X('sensations:N',\n",
    "            axis=alt.Axis(title=\"Relative to Typical Current Supply\")),\n",
    "    y=alt.Y('samples:Q',\n",
    "            axis=alt.Axis(title=\"Number of Samples\")),\n",
    ").properties(\n",
    "    width=alt.Step(80),\n",
    "    title=\"Sensations of Drugs Containing Xylazine\"\n",
    ").configure_axis(\n",
    "   labelFontSize=13,\n",
    "   titleFontSize=15,\n",
    "   labelAngle=0\n",
    ").configure_title(\n",
    "   fontSize=16\n",
    ")\n"
   ]
  },
  {
   "cell_type": "code",
   "execution_count": 9,
   "id": "c73e71aa-0ab9-4458-a53a-819c1fe1cc5e",
   "metadata": {},
   "outputs": [
    {
     "data": {
      "text/html": [
       "<div>\n",
       "<style scoped>\n",
       "    .dataframe tbody tr th:only-of-type {\n",
       "        vertical-align: middle;\n",
       "    }\n",
       "\n",
       "    .dataframe tbody tr th {\n",
       "        vertical-align: top;\n",
       "    }\n",
       "\n",
       "    .dataframe thead th {\n",
       "        text-align: right;\n",
       "    }\n",
       "</style>\n",
       "<table border=\"1\" class=\"dataframe\">\n",
       "  <thead>\n",
       "    <tr style=\"text-align: right;\">\n",
       "      <th></th>\n",
       "      <th>category</th>\n",
       "      <th>value</th>\n",
       "    </tr>\n",
       "  </thead>\n",
       "  <tbody>\n",
       "    <tr>\n",
       "      <th>0</th>\n",
       "      <td>1</td>\n",
       "      <td>4</td>\n",
       "    </tr>\n",
       "    <tr>\n",
       "      <th>1</th>\n",
       "      <td>2</td>\n",
       "      <td>6</td>\n",
       "    </tr>\n",
       "    <tr>\n",
       "      <th>2</th>\n",
       "      <td>3</td>\n",
       "      <td>10</td>\n",
       "    </tr>\n",
       "    <tr>\n",
       "      <th>3</th>\n",
       "      <td>4</td>\n",
       "      <td>3</td>\n",
       "    </tr>\n",
       "    <tr>\n",
       "      <th>4</th>\n",
       "      <td>5</td>\n",
       "      <td>7</td>\n",
       "    </tr>\n",
       "  </tbody>\n",
       "</table>\n",
       "</div>"
      ],
      "text/plain": [
       "   category  value\n",
       "0         1      4\n",
       "1         2      6\n",
       "2         3     10\n",
       "3         4      3\n",
       "4         5      7"
      ]
     },
     "execution_count": 9,
     "metadata": {},
     "output_type": "execute_result"
    }
   ],
   "source": [
    "import pandas as pd\n",
    "source = pd.DataFrame({\"category\": [1, 2, 3, 4, 5, 6], \"value\": [4, 6, 10, 3, 7, 8]})\n",
    "source.head()"
   ]
  },
  {
   "cell_type": "code",
   "execution_count": null,
   "id": "edac2ae2-31a1-4812-9d2d-6be41e331ff1",
   "metadata": {},
   "outputs": [],
   "source": [
    "\n",
    "alt.Chart(url).mark_arc().encode(\n",
    "    theta=alt.Theta(field=\"value\", type=\"quantitative\"),\n",
    "    color=alt.Color(field=\"category\", type=\"nominal\"),\n",
    ")\n",
    "\n"
   ]
  }
 ],
 "metadata": {
  "kernelspec": {
   "display_name": "Python 3 (ipykernel)",
   "language": "python",
   "name": "python3"
  },
  "language_info": {
   "codemirror_mode": {
    "name": "ipython",
    "version": 3
   },
   "file_extension": ".py",
   "mimetype": "text/x-python",
   "name": "python",
   "nbconvert_exporter": "python",
   "pygments_lexer": "ipython3",
   "version": "3.9.15"
  }
 },
 "nbformat": 4,
 "nbformat_minor": 5
}
